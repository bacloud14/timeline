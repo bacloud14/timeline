{
 "cells": [
  {
   "cell_type": "code",
   "execution_count": 1,
   "metadata": {},
   "outputs": [],
   "source": [
    "import re\n",
    "\n",
    "import spacy\n",
    "import requests\n",
    "import re\n",
    "import IPython\n",
    "from daterangeparser import parse"
   ]
  },
  {
   "cell_type": "code",
   "execution_count": 2,
   "metadata": {},
   "outputs": [
    {
     "name": "stdout",
     "output_type": "stream",
     "text": [
      "Loaded 744 lines\n"
     ]
    }
   ],
   "source": [
    "response = requests.get('https://raw.githubusercontent.com/qualicen/timeline/master/history_of_germany.txt')\n",
    "text = response.text\n",
    "print('Loaded {} lines'.format(text.count('\\n')))"
   ]
  },
  {
   "cell_type": "code",
   "execution_count": 3,
   "metadata": {},
   "outputs": [],
   "source": [
    "nlp = spacy.load(\"en_core_web_sm\")\n",
    "\n",
    "def dep_subtree(token, dep):\n",
    "    deps = [child.dep_ for child in token.children]\n",
    "    child = next(filter(lambda c: c.dep_ == dep, token.children), None)\n",
    "    if child != None:\n",
    "        return ' '.join([c.text for c in child.subtree])\n",
    "    else:\n",
    "        return ''\n",
    "\n",
    "\n",
    "# to remove citations, e.g. \"[91]\" as this makes problems with spaCy\n",
    "\n",
    "p = re.compile(r'\\[\\d+\\]')\n",
    "\n",
    "\n",
    "def extract_events_spacy(line):\n",
    "    line = p.sub('', line)\n",
    "    events = []\n",
    "    doc = nlp(line)\n",
    "    for ent in filter(lambda e: e.label_ == 'DATE', doc.ents):\n",
    "        try:\n",
    "            (start, end) = parse(ent.text)\n",
    "        except:\n",
    "\n",
    "      # could not parse the dates, hence ignore it\n",
    "\n",
    "            continue\n",
    "        current = ent.root\n",
    "        while current.dep_ != 'ROOT':\n",
    "            current = current.head\n",
    "        desc = ' '.join(filter(None, [\n",
    "            dep_subtree(current, 'nsubj'),\n",
    "            dep_subtree(current, 'nsubjpass'),\n",
    "            dep_subtree(current, 'auxpass'),\n",
    "            dep_subtree(current, 'amod'),\n",
    "            dep_subtree(current, 'det'),\n",
    "            current.text,\n",
    "            dep_subtree(current, 'acl'),\n",
    "            dep_subtree(current, 'dobj'),\n",
    "            dep_subtree(current, 'attr'),\n",
    "            dep_subtree(current, 'advmod'),\n",
    "            ]))\n",
    "        events = events + [(start, ent.text, desc)]\n",
    "    return events"
   ]
  },
  {
   "cell_type": "code",
   "execution_count": 11,
   "metadata": {},
   "outputs": [
    {
     "data": {
      "text/plain": [
       "[(datetime.datetime(1521, 1, 1, 0, 0),\n",
       "  '1521',\n",
       "  'The Protestant Reformation was the first successful challenge to the Catholic Church')]"
      ]
     },
     "execution_count": 11,
     "metadata": {},
     "output_type": "execute_result"
    }
   ],
   "source": [
    "extract_events_spacy(\"The Protestant Reformation was the first successful challenge to the Catholic Church and began in 1521 as Luther was outlawed at the Diet of Worms after his refusal to repent. \")"
   ]
  },
  {
   "cell_type": "code",
   "execution_count": 4,
   "metadata": {},
   "outputs": [],
   "source": [
    "timeline = extract_events_spacy(\"McDonald's Corporation is an American fast food company, founded in 1940 as a restaurant operated by Richard and Maurice McDonald, in San Bernardino, California, United States. They rechristened their business as a hamburger stand, and later turned the company into a franchise, with the Golden Arches logo being introduced in 1953 at a location in Phoenix, Arizona. In 1955, Ray Kroc, a businessman, joined the company as a franchise agent and proceeded to purchase the chain from the McDonald brothers. McDonald's had its original headquarters in Oak Brook, Illinois, but moved its global headquarters to Chicago in June 2018.[6][7][8][9] McDonald's is the world's largest restaurant chain by revenue,[10] serving over 69 million customers daily in over 100 countries[11] across 37,855 outlets as of 2018.[12][13] Although McDonald's is best known for its hamburgers, cheeseburgers and french fries, they feature chicken products, breakfast items, soft drinks, milkshakes, wraps, and desserts. In response to changing consumer tastes and a negative backlash because of the unhealthiness of their food,[14] the company has added to its menu salads, fish, smoothies, and fruit. The McDonald's Corporation revenues come from the rent, royalties, and fees paid by the franchisees, as well as sales in company-operated restaurants. According to two reports published in 2018, McDonald's is the world's second-largest private employer with 1.7 million employees (behind Walmart with 2.3 million employees).\")"
   ]
  },
  {
   "cell_type": "code",
   "execution_count": 9,
   "metadata": {},
   "outputs": [
    {
     "data": {
      "text/plain": [
       "{29537: (datetime.datetime(1940, 1, 1, 0, 0),\n",
       "  '1940',\n",
       "  \"McDonald 's Corporation is an American fast food company , founded in 1940 as a restaurant operated by Richard and Maurice McDonald , in San Bernardino , California , United States\"),\n",
       " 24788: (datetime.datetime(1953, 1, 1, 0, 0),\n",
       "  '1953',\n",
       "  'They rechristened their business'),\n",
       " 24058: (datetime.datetime(1955, 1, 1, 0, 0),\n",
       "  '1955',\n",
       "  'Ray Kroc , a businessman , joined the company'),\n",
       " 896: (datetime.datetime(2018, 6, 1, 0, 0),\n",
       "  'June 2018',\n",
       "  \"McDonald 's had its original headquarters in Oak Brook , Illinois\"),\n",
       " 1047: (datetime.datetime(2018, 1, 1, 0, 0),\n",
       "  '2018',\n",
       "  \"McDonald 's is the world 's second - largest private employer with 1.7 million employees ( behind Walmart\")}"
      ]
     },
     "execution_count": 9,
     "metadata": {},
     "output_type": "execute_result"
    }
   ],
   "source": [
    "import datetime\n",
    "import numpy as np\n",
    "\n",
    "a = np.array([(datetime.datetime.utcnow() - date[0]).days for date in timeline])\n",
    "dict(zip(a, timeline))"
   ]
  },
  {
   "cell_type": "code",
   "execution_count": 29,
   "metadata": {},
   "outputs": [
    {
     "data": {
      "text/plain": [
       "[(array([29537, 24788, 24058]), 2429.113738702977),\n",
       " (array([24788, 24058,   896]), 11094.737531320372),\n",
       " (array([24058,   896,  1047]), 10883.255058421937),\n",
       " (array([ 896, 1047, 1047]), 71.1820826394458)]"
      ]
     },
     "execution_count": 29,
     "metadata": {},
     "output_type": "execute_result"
    }
   ],
   "source": [
    "import numpy as np\n",
    "\n",
    "def rolling_window(a, window):\n",
    "    shape = a.shape[:-1] + (a.shape[-1] - window + 1, window)\n",
    "    strides = a.strides + (a.strides[-1],)\n",
    "    return np.lib.stride_tricks.as_strided(a, shape=shape, strides=strides)\n",
    "\n",
    "subarrays = rolling_window(a, 3)\n",
    "stds = list(map(np.std, subarrays))\n",
    "list(zip(subarrays, stds))"
   ]
  },
  {
   "cell_type": "code",
   "execution_count": 11,
   "metadata": {},
   "outputs": [
    {
     "name": "stdout",
     "output_type": "stream",
     "text": [
      "(array([29537, 24788]), array([24058,   896,  1047,  1047]))\n",
      "[array([29537, 24788]), array([24058,   896]), array([1047, 1047])]\n",
      "(array([29537, 24788, 24058]), array([ 896, 1047, 1047]))\n",
      "(array([29537, 24788, 24058,   896]), array([1047, 1047]))\n",
      "best_split\n",
      "[29537 24788 24058   896  1047  1047]\n",
      "minimum\n",
      "0.0\n"
     ]
    }
   ],
   "source": [
    "import numpy as np\n",
    "\n",
    "def std(arrays):\n",
    "    total = 0\n",
    "    for arr in arrays:\n",
    "        total+=np.std(np.array(arr))\n",
    "    return (total)\n",
    "def splitter(arr):\n",
    "    for i in range(1, len(arr)):\n",
    "        start = arr[0:i]\n",
    "        end = arr[i:]\n",
    "        if(len(start) < 2 or len(end) < 2):\n",
    "            continue\n",
    "        yield (start, end)\n",
    "        for split in splitter(end):\n",
    "            result = [start]\n",
    "            result.extend(split)\n",
    "            yield result\n",
    "            \n",
    "minimum = 999999999\n",
    "best_split = None\n",
    "for split in splitter(a):\n",
    "    print(split)\n",
    "    std_ = std(split)\n",
    "    if(std_ < minimum):\n",
    "        minimum = std_\n",
    "        best_split = split\n",
    "        \n",
    "print(\"best_split\")\n",
    "print(best_split)\n",
    "print(\"minimum\")\n",
    "print(minimum)"
   ]
  },
  {
   "cell_type": "code",
   "execution_count": 13,
   "metadata": {},
   "outputs": [
    {
     "data": {
      "text/plain": [
       "0.0"
      ]
     },
     "execution_count": 13,
     "metadata": {},
     "output_type": "execute_result"
    }
   ],
   "source": [
    "std_"
   ]
  }
 ],
 "metadata": {
  "kernelspec": {
   "display_name": "Python 3",
   "language": "python",
   "name": "python3"
  },
  "language_info": {
   "codemirror_mode": {
    "name": "ipython",
    "version": 3
   },
   "file_extension": ".py",
   "mimetype": "text/x-python",
   "name": "python",
   "nbconvert_exporter": "python",
   "pygments_lexer": "ipython3",
   "version": "3.7.7"
  }
 },
 "nbformat": 4,
 "nbformat_minor": 4
}
